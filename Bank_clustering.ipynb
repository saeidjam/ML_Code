{
 "cells": [
  {
   "cell_type": "code",
   "execution_count": 3,
   "metadata": {},
   "outputs": [
    {
     "data": {
      "text/html": [
       "<div>\n",
       "<style scoped>\n",
       "    .dataframe tbody tr th:only-of-type {\n",
       "        vertical-align: middle;\n",
       "    }\n",
       "\n",
       "    .dataframe tbody tr th {\n",
       "        vertical-align: top;\n",
       "    }\n",
       "\n",
       "    .dataframe thead th {\n",
       "        text-align: right;\n",
       "    }\n",
       "</style>\n",
       "<table border=\"1\" class=\"dataframe\">\n",
       "  <thead>\n",
       "    <tr style=\"text-align: right;\">\n",
       "      <th></th>\n",
       "      <th>CUSTOMERID</th>\n",
       "      <th>AGE</th>\n",
       "      <th>EDUCATION</th>\n",
       "      <th>YEARSEMPLOYED</th>\n",
       "      <th>INCOME</th>\n",
       "      <th>CARDDEBT</th>\n",
       "      <th>OTHERDEBT</th>\n",
       "      <th>DEFAULTED</th>\n",
       "      <th>ADDRESS</th>\n",
       "    </tr>\n",
       "  </thead>\n",
       "  <tbody>\n",
       "    <tr>\n",
       "      <th>0</th>\n",
       "      <td>1</td>\n",
       "      <td>41</td>\n",
       "      <td>UNDER GRADUATE</td>\n",
       "      <td>6</td>\n",
       "      <td>19</td>\n",
       "      <td>0.124</td>\n",
       "      <td>1.073</td>\n",
       "      <td>0</td>\n",
       "      <td>NBA001</td>\n",
       "    </tr>\n",
       "    <tr>\n",
       "      <th>1</th>\n",
       "      <td>2</td>\n",
       "      <td>47</td>\n",
       "      <td>SCHOOL</td>\n",
       "      <td>26</td>\n",
       "      <td>100</td>\n",
       "      <td>4.582</td>\n",
       "      <td>8.218</td>\n",
       "      <td>0</td>\n",
       "      <td>NBA021</td>\n",
       "    </tr>\n",
       "    <tr>\n",
       "      <th>2</th>\n",
       "      <td>3</td>\n",
       "      <td>33</td>\n",
       "      <td>UNDER GRADUATE</td>\n",
       "      <td>10</td>\n",
       "      <td>57</td>\n",
       "      <td>6.111</td>\n",
       "      <td>5.802</td>\n",
       "      <td>1</td>\n",
       "      <td>NBA013</td>\n",
       "    </tr>\n",
       "    <tr>\n",
       "      <th>3</th>\n",
       "      <td>4</td>\n",
       "      <td>29</td>\n",
       "      <td>UNDER GRADUATE</td>\n",
       "      <td>4</td>\n",
       "      <td>19</td>\n",
       "      <td>0.681</td>\n",
       "      <td>0.516</td>\n",
       "      <td>0</td>\n",
       "      <td>NBA009</td>\n",
       "    </tr>\n",
       "    <tr>\n",
       "      <th>4</th>\n",
       "      <td>5</td>\n",
       "      <td>47</td>\n",
       "      <td>SCHOOL</td>\n",
       "      <td>31</td>\n",
       "      <td>253</td>\n",
       "      <td>9.308</td>\n",
       "      <td>8.908</td>\n",
       "      <td>0</td>\n",
       "      <td>NBA008</td>\n",
       "    </tr>\n",
       "  </tbody>\n",
       "</table>\n",
       "</div>"
      ],
      "text/plain": [
       "   CUSTOMERID  AGE       EDUCATION  YEARSEMPLOYED  INCOME  CARDDEBT  \\\n",
       "0           1   41  UNDER GRADUATE              6      19     0.124   \n",
       "1           2   47          SCHOOL             26     100     4.582   \n",
       "2           3   33  UNDER GRADUATE             10      57     6.111   \n",
       "3           4   29  UNDER GRADUATE              4      19     0.681   \n",
       "4           5   47          SCHOOL             31     253     9.308   \n",
       "\n",
       "   OTHERDEBT DEFAULTED ADDRESS  \n",
       "0      1.073         0  NBA001  \n",
       "1      8.218         0  NBA021  \n",
       "2      5.802         1  NBA013  \n",
       "3      0.516         0  NBA009  \n",
       "4      8.908         0  NBA008  "
      ]
     },
     "execution_count": 3,
     "metadata": {},
     "output_type": "execute_result"
    }
   ],
   "source": [
    "import numpy as np\n",
    "import pandas as pd\n",
    "data = pd.read_csv(\"C:\\\\Users\\\\Saeid\\\\OneDrive\\\\Desktop\\\\DataSet\\\\customer_bank_data.csv\")\n",
    "data.head()"
   ]
  },
  {
   "cell_type": "code",
   "execution_count": 4,
   "metadata": {},
   "outputs": [
    {
     "name": "stdout",
     "output_type": "stream",
     "text": [
      "EDUCATION ['DOCTRATE' 'POST DOCTORAL RESEARCH' 'POST GRADUATE' 'SCHOOL'\n",
      " 'UNDER GRADUATE']\n"
     ]
    }
   ],
   "source": [
    "print('EDUCATION', np.unique(data['EDUCATION']))"
   ]
  },
  {
   "cell_type": "code",
   "execution_count": 5,
   "metadata": {},
   "outputs": [],
   "source": [
    "data['EDUCATION'] = np.where(data['EDUCATION'] == 'DOCTRATE', '4', data['EDUCATION'])\n",
    "data['EDUCATION'] = np.where(data['EDUCATION'] == 'POST DOCTORAL RESEARCH', '5', data['EDUCATION'])\n",
    "data['EDUCATION'] = np.where(data['EDUCATION'] == 'POST GRADUATE', '3', data['EDUCATION'])\n",
    "data['EDUCATION'] = np.where(data['EDUCATION'] == 'SCHOOL', '1', data['EDUCATION'])\n",
    "data['EDUCATION'] = np.where(data['EDUCATION'] == 'UNDER GRADUATE', '2', data['EDUCATION'])"
   ]
  },
  {
   "cell_type": "code",
   "execution_count": 6,
   "metadata": {},
   "outputs": [
    {
     "name": "stdout",
     "output_type": "stream",
     "text": [
      "EDUCATION ['1' '2' '3' '4' '5']\n"
     ]
    }
   ],
   "source": [
    "print('EDUCATION', np.unique(data['EDUCATION']))"
   ]
  },
  {
   "cell_type": "code",
   "execution_count": 7,
   "metadata": {},
   "outputs": [],
   "source": [
    "data['DEBTINCOMERATIO'] = (data['CARDDEBT'] + data['OTHERDEBT']) / data['INCOME'] * 100"
   ]
  },
  {
   "cell_type": "code",
   "execution_count": 8,
   "metadata": {},
   "outputs": [
    {
     "data": {
      "text/html": [
       "<div>\n",
       "<style scoped>\n",
       "    .dataframe tbody tr th:only-of-type {\n",
       "        vertical-align: middle;\n",
       "    }\n",
       "\n",
       "    .dataframe tbody tr th {\n",
       "        vertical-align: top;\n",
       "    }\n",
       "\n",
       "    .dataframe thead th {\n",
       "        text-align: right;\n",
       "    }\n",
       "</style>\n",
       "<table border=\"1\" class=\"dataframe\">\n",
       "  <thead>\n",
       "    <tr style=\"text-align: right;\">\n",
       "      <th></th>\n",
       "      <th>CUSTOMERID</th>\n",
       "      <th>AGE</th>\n",
       "      <th>EDUCATION</th>\n",
       "      <th>YEARSEMPLOYED</th>\n",
       "      <th>INCOME</th>\n",
       "      <th>CARDDEBT</th>\n",
       "      <th>OTHERDEBT</th>\n",
       "      <th>DEFAULTED</th>\n",
       "      <th>ADDRESS</th>\n",
       "      <th>DEBTINCOMERATIO</th>\n",
       "    </tr>\n",
       "  </thead>\n",
       "  <tbody>\n",
       "    <tr>\n",
       "      <th>0</th>\n",
       "      <td>1</td>\n",
       "      <td>41</td>\n",
       "      <td>2</td>\n",
       "      <td>6</td>\n",
       "      <td>19</td>\n",
       "      <td>0.124</td>\n",
       "      <td>1.073</td>\n",
       "      <td>0</td>\n",
       "      <td>NBA001</td>\n",
       "      <td>6.3</td>\n",
       "    </tr>\n",
       "    <tr>\n",
       "      <th>1</th>\n",
       "      <td>2</td>\n",
       "      <td>47</td>\n",
       "      <td>1</td>\n",
       "      <td>26</td>\n",
       "      <td>100</td>\n",
       "      <td>4.582</td>\n",
       "      <td>8.218</td>\n",
       "      <td>0</td>\n",
       "      <td>NBA021</td>\n",
       "      <td>12.8</td>\n",
       "    </tr>\n",
       "    <tr>\n",
       "      <th>2</th>\n",
       "      <td>3</td>\n",
       "      <td>33</td>\n",
       "      <td>2</td>\n",
       "      <td>10</td>\n",
       "      <td>57</td>\n",
       "      <td>6.111</td>\n",
       "      <td>5.802</td>\n",
       "      <td>1</td>\n",
       "      <td>NBA013</td>\n",
       "      <td>20.9</td>\n",
       "    </tr>\n",
       "    <tr>\n",
       "      <th>3</th>\n",
       "      <td>4</td>\n",
       "      <td>29</td>\n",
       "      <td>2</td>\n",
       "      <td>4</td>\n",
       "      <td>19</td>\n",
       "      <td>0.681</td>\n",
       "      <td>0.516</td>\n",
       "      <td>0</td>\n",
       "      <td>NBA009</td>\n",
       "      <td>6.3</td>\n",
       "    </tr>\n",
       "    <tr>\n",
       "      <th>4</th>\n",
       "      <td>5</td>\n",
       "      <td>47</td>\n",
       "      <td>1</td>\n",
       "      <td>31</td>\n",
       "      <td>253</td>\n",
       "      <td>9.308</td>\n",
       "      <td>8.908</td>\n",
       "      <td>0</td>\n",
       "      <td>NBA008</td>\n",
       "      <td>7.2</td>\n",
       "    </tr>\n",
       "  </tbody>\n",
       "</table>\n",
       "</div>"
      ],
      "text/plain": [
       "   CUSTOMERID  AGE EDUCATION  YEARSEMPLOYED  INCOME  CARDDEBT  OTHERDEBT  \\\n",
       "0           1   41         2              6      19     0.124      1.073   \n",
       "1           2   47         1             26     100     4.582      8.218   \n",
       "2           3   33         2             10      57     6.111      5.802   \n",
       "3           4   29         2              4      19     0.681      0.516   \n",
       "4           5   47         1             31     253     9.308      8.908   \n",
       "\n",
       "  DEFAULTED ADDRESS  DEBTINCOMERATIO  \n",
       "0         0  NBA001              6.3  \n",
       "1         0  NBA021             12.8  \n",
       "2         1  NBA013             20.9  \n",
       "3         0  NBA009              6.3  \n",
       "4         0  NBA008              7.2  "
      ]
     },
     "execution_count": 8,
     "metadata": {},
     "output_type": "execute_result"
    }
   ],
   "source": [
    "data.head()"
   ]
  },
  {
   "cell_type": "code",
   "execution_count": 9,
   "metadata": {},
   "outputs": [],
   "source": [
    "data['EMPLOY_RATIO'] = data['YEARSEMPLOYED'] / data['AGE']"
   ]
  },
  {
   "cell_type": "code",
   "execution_count": 10,
   "metadata": {},
   "outputs": [
    {
     "data": {
      "text/html": [
       "<div>\n",
       "<style scoped>\n",
       "    .dataframe tbody tr th:only-of-type {\n",
       "        vertical-align: middle;\n",
       "    }\n",
       "\n",
       "    .dataframe tbody tr th {\n",
       "        vertical-align: top;\n",
       "    }\n",
       "\n",
       "    .dataframe thead th {\n",
       "        text-align: right;\n",
       "    }\n",
       "</style>\n",
       "<table border=\"1\" class=\"dataframe\">\n",
       "  <thead>\n",
       "    <tr style=\"text-align: right;\">\n",
       "      <th></th>\n",
       "      <th>CUSTOMERID</th>\n",
       "      <th>AGE</th>\n",
       "      <th>EDUCATION</th>\n",
       "      <th>YEARSEMPLOYED</th>\n",
       "      <th>INCOME</th>\n",
       "      <th>CARDDEBT</th>\n",
       "      <th>OTHERDEBT</th>\n",
       "      <th>DEFAULTED</th>\n",
       "      <th>ADDRESS</th>\n",
       "      <th>DEBTINCOMERATIO</th>\n",
       "      <th>EMPLOY_RATIO</th>\n",
       "    </tr>\n",
       "  </thead>\n",
       "  <tbody>\n",
       "    <tr>\n",
       "      <th>0</th>\n",
       "      <td>1</td>\n",
       "      <td>41</td>\n",
       "      <td>2</td>\n",
       "      <td>6</td>\n",
       "      <td>19</td>\n",
       "      <td>0.124</td>\n",
       "      <td>1.073</td>\n",
       "      <td>0</td>\n",
       "      <td>NBA001</td>\n",
       "      <td>6.3</td>\n",
       "      <td>0.146341</td>\n",
       "    </tr>\n",
       "    <tr>\n",
       "      <th>1</th>\n",
       "      <td>2</td>\n",
       "      <td>47</td>\n",
       "      <td>1</td>\n",
       "      <td>26</td>\n",
       "      <td>100</td>\n",
       "      <td>4.582</td>\n",
       "      <td>8.218</td>\n",
       "      <td>0</td>\n",
       "      <td>NBA021</td>\n",
       "      <td>12.8</td>\n",
       "      <td>0.553191</td>\n",
       "    </tr>\n",
       "    <tr>\n",
       "      <th>2</th>\n",
       "      <td>3</td>\n",
       "      <td>33</td>\n",
       "      <td>2</td>\n",
       "      <td>10</td>\n",
       "      <td>57</td>\n",
       "      <td>6.111</td>\n",
       "      <td>5.802</td>\n",
       "      <td>1</td>\n",
       "      <td>NBA013</td>\n",
       "      <td>20.9</td>\n",
       "      <td>0.303030</td>\n",
       "    </tr>\n",
       "    <tr>\n",
       "      <th>3</th>\n",
       "      <td>4</td>\n",
       "      <td>29</td>\n",
       "      <td>2</td>\n",
       "      <td>4</td>\n",
       "      <td>19</td>\n",
       "      <td>0.681</td>\n",
       "      <td>0.516</td>\n",
       "      <td>0</td>\n",
       "      <td>NBA009</td>\n",
       "      <td>6.3</td>\n",
       "      <td>0.137931</td>\n",
       "    </tr>\n",
       "    <tr>\n",
       "      <th>4</th>\n",
       "      <td>5</td>\n",
       "      <td>47</td>\n",
       "      <td>1</td>\n",
       "      <td>31</td>\n",
       "      <td>253</td>\n",
       "      <td>9.308</td>\n",
       "      <td>8.908</td>\n",
       "      <td>0</td>\n",
       "      <td>NBA008</td>\n",
       "      <td>7.2</td>\n",
       "      <td>0.659574</td>\n",
       "    </tr>\n",
       "  </tbody>\n",
       "</table>\n",
       "</div>"
      ],
      "text/plain": [
       "   CUSTOMERID  AGE EDUCATION  YEARSEMPLOYED  INCOME  CARDDEBT  OTHERDEBT  \\\n",
       "0           1   41         2              6      19     0.124      1.073   \n",
       "1           2   47         1             26     100     4.582      8.218   \n",
       "2           3   33         2             10      57     6.111      5.802   \n",
       "3           4   29         2              4      19     0.681      0.516   \n",
       "4           5   47         1             31     253     9.308      8.908   \n",
       "\n",
       "  DEFAULTED ADDRESS  DEBTINCOMERATIO  EMPLOY_RATIO  \n",
       "0         0  NBA001              6.3      0.146341  \n",
       "1         0  NBA021             12.8      0.553191  \n",
       "2         1  NBA013             20.9      0.303030  \n",
       "3         0  NBA009              6.3      0.137931  \n",
       "4         0  NBA008              7.2      0.659574  "
      ]
     },
     "execution_count": 10,
     "metadata": {},
     "output_type": "execute_result"
    }
   ],
   "source": [
    "data.head()"
   ]
  },
  {
   "cell_type": "code",
   "execution_count": 11,
   "metadata": {},
   "outputs": [],
   "source": [
    "data = data[['DEBTINCOMERATIO', 'EMPLOY_RATIO']]\n",
    "data = data[pd.notnull(data[['DEBTINCOMERATIO', 'EMPLOY_RATIO']])]\n"
   ]
  },
  {
   "cell_type": "code",
   "execution_count": 12,
   "metadata": {},
   "outputs": [
    {
     "data": {
      "text/html": [
       "<div>\n",
       "<style scoped>\n",
       "    .dataframe tbody tr th:only-of-type {\n",
       "        vertical-align: middle;\n",
       "    }\n",
       "\n",
       "    .dataframe tbody tr th {\n",
       "        vertical-align: top;\n",
       "    }\n",
       "\n",
       "    .dataframe thead th {\n",
       "        text-align: right;\n",
       "    }\n",
       "</style>\n",
       "<table border=\"1\" class=\"dataframe\">\n",
       "  <thead>\n",
       "    <tr style=\"text-align: right;\">\n",
       "      <th></th>\n",
       "      <th>DEBTINCOMERATIO</th>\n",
       "      <th>EMPLOY_RATIO</th>\n",
       "    </tr>\n",
       "  </thead>\n",
       "  <tbody>\n",
       "    <tr>\n",
       "      <th>0</th>\n",
       "      <td>6.3</td>\n",
       "      <td>0.146341</td>\n",
       "    </tr>\n",
       "    <tr>\n",
       "      <th>1</th>\n",
       "      <td>12.8</td>\n",
       "      <td>0.553191</td>\n",
       "    </tr>\n",
       "    <tr>\n",
       "      <th>2</th>\n",
       "      <td>20.9</td>\n",
       "      <td>0.303030</td>\n",
       "    </tr>\n",
       "    <tr>\n",
       "      <th>3</th>\n",
       "      <td>6.3</td>\n",
       "      <td>0.137931</td>\n",
       "    </tr>\n",
       "    <tr>\n",
       "      <th>4</th>\n",
       "      <td>7.2</td>\n",
       "      <td>0.659574</td>\n",
       "    </tr>\n",
       "  </tbody>\n",
       "</table>\n",
       "</div>"
      ],
      "text/plain": [
       "   DEBTINCOMERATIO  EMPLOY_RATIO\n",
       "0              6.3      0.146341\n",
       "1             12.8      0.553191\n",
       "2             20.9      0.303030\n",
       "3              6.3      0.137931\n",
       "4              7.2      0.659574"
      ]
     },
     "execution_count": 12,
     "metadata": {},
     "output_type": "execute_result"
    }
   ],
   "source": [
    "data.head()"
   ]
  },
  {
   "cell_type": "code",
   "execution_count": 13,
   "metadata": {},
   "outputs": [],
   "source": [
    "from sklearn.cluster import KMeans\n",
    "import matplotlib.pyplot as plt"
   ]
  },
  {
   "cell_type": "code",
   "execution_count": 14,
   "metadata": {},
   "outputs": [
    {
     "data": {
      "text/plain": [
       "[38354.85967436235,\n",
       " 13022.321016769525,\n",
       " 6561.898384371123,\n",
       " 3848.0390936794925,\n",
       " 2638.407312547098,\n",
       " 1874.6773262270979,\n",
       " 1309.8695447658754,\n",
       " 1020.8262368978742,\n",
       " 806.6560625902993]"
      ]
     },
     "execution_count": 14,
     "metadata": {},
     "output_type": "execute_result"
    }
   ],
   "source": [
    "inertia_list = []\n",
    "for k in np.arange(1, 10):\n",
    "    kmn = KMeans(n_clusters=k)\n",
    "    kmn.fit(data.values)\n",
    "    inertia_list.append(kmn.inertia_)\n",
    "    \n",
    "inertia_list"
   ]
  },
  {
   "cell_type": "code",
   "execution_count": 15,
   "metadata": {},
   "outputs": [
    {
     "data": {
      "image/png": "[encoded data removed]",
      "text/plain": [
       "<Figure size 432x288 with 1 Axes>"
      ]
     },
     "metadata": {
      "needs_background": "light"
     },
     "output_type": "display_data"
    }
   ],
   "source": [
    "plt.plot(np.arange(1, 10), inertia_list, 'ro-')\n",
    "plt.xlabel('number of clusters')\n",
    "plt.ylabel('overlap')\n",
    "plt.show()"
   ]
  },
  {
   "cell_type": "code",
   "execution_count": 16,
   "metadata": {},
   "outputs": [
    {
     "data": {
      "text/plain": [
       "array([3, 0, 1, 3, 3, 0, 3, 3, 1, 3, 3, 3, 3, 1, 0, 0, 3, 0, 0, 0, 3, 0,\n",
       "       1, 0, 1, 0, 3, 1, 3, 0, 3, 1, 3, 0, 0, 0, 3, 0, 3, 3, 0, 0, 2, 3,\n",
       "       1, 0, 1, 3, 3, 3, 3, 2, 2, 3, 1, 0, 3, 3, 3, 3, 1, 1, 0, 0, 3, 0,\n",
       "       3, 0, 1, 1, 3, 3, 3, 1, 3, 0, 3, 0, 0, 3, 0, 2, 3, 0, 1, 3, 0, 0,\n",
       "       0, 1, 3, 3, 3, 1, 3, 3, 0, 3, 1, 3, 2, 1, 3, 0, 0, 2, 3, 1, 3, 3,\n",
       "       3, 1, 0, 1, 0, 3, 0, 0, 1, 3, 0, 0, 3, 3, 0, 3, 3, 3, 1, 3, 3, 0,\n",
       "       0, 3, 1, 0, 3, 0, 0, 1, 1, 0, 0, 0, 2, 1, 0, 0, 3, 3, 3, 2, 0, 1,\n",
       "       3, 1, 3, 3, 1, 1, 3, 1, 3, 0, 0, 3, 3, 3, 3, 0, 1, 0, 3, 0, 3, 2,\n",
       "       3, 3, 0, 3, 1, 3, 3, 2, 2, 2, 3, 0, 0, 3, 1, 2, 3, 3, 3, 0, 3, 0,\n",
       "       1, 3, 0, 3, 1, 3, 3, 0, 3, 3, 3, 3, 0, 3, 3, 3, 0, 1, 0, 2, 0, 3,\n",
       "       0, 3, 3, 3, 0, 3, 1, 0, 2, 0, 3, 1, 1, 0, 1, 3, 0, 1, 2, 3, 0, 3,\n",
       "       0, 3, 3, 3, 3, 0, 0, 0, 3, 1, 3, 2, 3, 2, 0, 0, 3, 0, 3, 0, 1, 3,\n",
       "       1, 0, 3, 0, 3, 3, 0, 3, 3, 0, 0, 3, 1, 1, 0, 0, 3, 2, 3, 0, 0, 0,\n",
       "       0, 3, 3, 1, 3, 3, 3, 2, 3, 0, 0, 0, 0, 1, 3, 3, 0, 0, 1, 0, 1, 2,\n",
       "       1, 0, 3, 0, 0, 3, 3, 3, 3, 0, 3, 0, 2, 3, 0, 3, 3, 3, 1, 3, 3, 0,\n",
       "       0, 0, 0, 0, 3, 1, 3, 0, 1, 3, 0, 3, 3, 1, 1, 3, 1, 3, 3, 0, 2, 3,\n",
       "       3, 3, 3, 3, 1, 0, 3, 1, 3, 1, 3, 3, 3, 1, 3, 3, 0, 3, 3, 0, 0, 3,\n",
       "       2, 1, 1, 0, 3, 0, 0, 3, 3, 0, 0, 0, 0, 1, 3, 3, 1, 2, 3, 2, 0, 0,\n",
       "       0, 3, 3, 3, 1, 3, 1, 0, 1, 1, 3, 1, 3, 3, 3, 0, 1, 2, 0, 0, 1, 1,\n",
       "       1, 3, 0, 1, 0, 0, 2, 1, 3, 1, 1, 3, 1, 1, 0, 0, 1, 3, 3, 3, 1, 3,\n",
       "       3, 0, 0, 0, 0, 1, 3, 0, 3, 3, 2, 1, 0, 3, 0, 0, 2, 0, 0, 1, 3, 0,\n",
       "       2, 1, 3, 0, 3, 3, 3, 1, 0, 1, 0, 0, 3, 0, 0, 3, 3, 2, 1, 1, 3, 1,\n",
       "       0, 3, 1, 0, 1, 3, 1, 1, 0, 1, 3, 0, 1, 2, 0, 3, 3, 0, 0, 3, 3, 0,\n",
       "       3, 2, 3, 1, 0, 0, 0, 2, 3, 1, 0, 3, 0, 1, 1, 0, 3, 1, 0, 0, 3, 0,\n",
       "       2, 1, 0, 2, 3, 1, 3, 0, 3, 3, 0, 1, 3, 3, 3, 0, 3, 3, 0, 0, 3, 3,\n",
       "       2, 3, 0, 3, 0, 0, 0, 3, 1, 3, 3, 3, 1, 1, 3, 0, 0, 3, 2, 3, 0, 1,\n",
       "       0, 0, 0, 2, 1, 3, 0, 0, 2, 3, 0, 3, 3, 2, 1, 3, 3, 1, 0, 0, 3, 1,\n",
       "       2, 0, 3, 3, 3, 0, 3, 0, 1, 2, 0, 1, 1, 0, 1, 3, 3, 3, 3, 3, 1, 1,\n",
       "       1, 3, 0, 3, 2, 0, 1, 2, 3, 1, 3, 3, 0, 1, 1, 0, 3, 3, 0, 0, 1, 0,\n",
       "       0, 0, 0, 3, 0, 3, 0, 1, 3, 0, 3, 3, 3, 0, 0, 0, 3, 3, 3, 2, 0, 3,\n",
       "       0, 3, 3, 0, 0, 3, 3, 3, 3, 0, 0, 3, 0, 3, 0, 3, 3, 0, 1, 0, 1, 0,\n",
       "       1, 3, 0, 3, 1, 3, 3, 0, 3, 3, 0, 1, 3, 3, 1, 0, 0, 0, 0, 1, 3, 3,\n",
       "       0, 0, 1, 3, 1, 1, 0, 3, 1, 1, 3, 2, 3, 3, 3, 1, 1, 0, 0, 1, 1, 3,\n",
       "       3, 0, 3, 0, 0, 0, 0, 3, 3, 3, 1, 3, 0, 3, 1, 3, 3, 2, 3, 3, 3, 1,\n",
       "       1, 0, 0, 0, 3, 1, 1, 0, 3, 3, 0, 2, 1, 1, 0, 3, 0, 0, 3, 0, 3, 3,\n",
       "       3, 0, 1, 3, 1, 0, 2, 0, 0, 2, 3, 3, 3, 0, 1, 3, 3, 0, 0, 0, 3, 3,\n",
       "       0, 1, 3, 3, 0, 3, 1, 3, 3, 3, 0, 1, 0, 3, 0, 0, 1, 2, 0, 0, 3, 0,\n",
       "       3, 3, 3, 3, 0, 0, 1, 1, 3, 0, 1, 3, 2, 1, 3, 3, 1, 0, 1, 1, 0, 1,\n",
       "       3, 1, 3, 3, 3, 3, 3, 3, 3, 3, 3, 2, 3, 0])"
      ]
     },
     "execution_count": 16,
     "metadata": {},
     "output_type": "execute_result"
    }
   ],
   "source": [
    "kmn = KMeans(n_clusters=4)\n",
    "kmn.fit(data.values)\n",
    "labels = kmn.predict(data.values)\n",
    "labels"
   ]
  },
  {
   "cell_type": "code",
   "execution_count": 17,
   "metadata": {},
   "outputs": [
    {
     "data": {
      "image/png": "[encoded data removed]",
      "text/plain": [
       "<Figure size 432x288 with 1 Axes>"
      ]
     },
     "metadata": {
      "needs_background": "light"
     },
     "output_type": "display_data"
    }
   ],
   "source": [
    "xs = data.values[:,0]\n",
    "ys = data.values[:, 1]\n",
    "plt.scatter(xs, ys, c=labels)\n",
    "plt.legend(labels, loc='upper right')\n",
    "plt.xlabel('DEBTINCOMERATIO')\n",
    "plt.ylabel('EMPLOY_RATIO')\n",
    "plt.show()"
   ]
  },
  {
   "cell_type": "code",
   "execution_count": 20,
   "metadata": {},
   "outputs": [
    {
     "data": {
      "text/html": [
       "<div>\n",
       "<style scoped>\n",
       "    .dataframe tbody tr th:only-of-type {\n",
       "        vertical-align: middle;\n",
       "    }\n",
       "\n",
       "    .dataframe tbody tr th {\n",
       "        vertical-align: top;\n",
       "    }\n",
       "\n",
       "    .dataframe thead th {\n",
       "        text-align: right;\n",
       "    }\n",
       "</style>\n",
       "<table border=\"1\" class=\"dataframe\">\n",
       "  <thead>\n",
       "    <tr style=\"text-align: right;\">\n",
       "      <th></th>\n",
       "      <th>Cluster</th>\n",
       "    </tr>\n",
       "  </thead>\n",
       "  <tbody>\n",
       "    <tr>\n",
       "      <th>0</th>\n",
       "      <td>0</td>\n",
       "    </tr>\n",
       "    <tr>\n",
       "      <th>1</th>\n",
       "      <td>3</td>\n",
       "    </tr>\n",
       "    <tr>\n",
       "      <th>2</th>\n",
       "      <td>1</td>\n",
       "    </tr>\n",
       "    <tr>\n",
       "      <th>3</th>\n",
       "      <td>0</td>\n",
       "    </tr>\n",
       "    <tr>\n",
       "      <th>4</th>\n",
       "      <td>0</td>\n",
       "    </tr>\n",
       "  </tbody>\n",
       "</table>\n",
       "</div>"
      ],
      "text/plain": [
       "   Cluster\n",
       "0        0\n",
       "1        3\n",
       "2        1\n",
       "3        0\n",
       "4        0"
      ]
     },
     "execution_count": 20,
     "metadata": {},
     "output_type": "execute_result"
    }
   ],
   "source": [
    "columns = ['Cluster']\n",
    "shahin = pd.DataFrame(labels, index = None, columns=columns)\n",
    "shahin.head()"
   ]
  },
  {
   "cell_type": "code",
   "execution_count": 21,
   "metadata": {},
   "outputs": [],
   "source": [
    "shahin_final = data.join(shahin)\n",
    "shahin_final\n",
    "shahin_final.to_csv('C:\\\\Users\\\\ShahinN\\\\Desktop\\\\bank_cluster.csv')"
   ]
  },
  {
   "cell_type": "code",
   "execution_count": null,
   "metadata": {},
   "outputs": [],
   "source": []
  }
 ],
 "metadata": {
  "kernelspec": {
   "display_name": "Python 3",
   "language": "python",
   "name": "python3"
  },
  "language_info": {
   "codemirror_mode": {
    "name": "ipython",
    "version": 3
   },
   "file_extension": ".py",
   "mimetype": "text/x-python",
   "name": "python",
   "nbconvert_exporter": "python",
   "pygments_lexer": "ipython3",
   "version": "3.7.3"
  }
 },
 "nbformat": 4,
 "nbformat_minor": 2
}
